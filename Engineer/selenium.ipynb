{
 "cells": [
  {
   "cell_type": "markdown",
   "metadata": {},
   "source": [
    "## Selenium\n",
    "\n",
    "If the page you are scraping from is generated dynamically, you will need to use a more advanced library like [**Selenium**](https://www.selenium.dev/documentation/webdriver/). This software is actually designed for **testing** websites by automating a process a human would otherwise need to do manually - use the website and look for bugs. It can click buttons, open menus, scroll, navigate, essentially trigger any event that a user would do while visiting the website and make sure everything performs as expected.\n",
    "\n",
    "Imitating a user's journey through the website is how we will access the data we need, since many JavaScript functions won't fire until triggered by a user event, and we want the data they return! "
   ]
  },
  {
   "cell_type": "code",
   "execution_count": 1,
   "metadata": {},
   "outputs": [],
   "source": [
    "from selenium import webdriver\n",
    "import pandas as pd\n",
    "driver = webdriver.Chrome()"
   ]
  },
  {
   "cell_type": "code",
   "execution_count": 2,
   "metadata": {},
   "outputs": [],
   "source": [
    "driver.quit()"
   ]
  },
  {
   "cell_type": "code",
   "execution_count": 3,
   "metadata": {},
   "outputs": [
    {
     "name": "stdout",
     "output_type": "stream",
     "text": [
      "<html><head>\n",
      "    <title>Example Domain</title>\n",
      "\n",
      "    <meta charset=\"utf-8\">\n",
      "    <meta http-equiv=\"Content-type\" content=\"text/html; charset=utf-8\">\n",
      "    <meta name=\"viewport\" content=\"width=device-width, initial-scale=1\">\n",
      "    <style type=\"text/css\">\n",
      "    body {\n",
      "        background-color: #f0f0f2;\n",
      "        margin: 0;\n",
      "        padding: 0;\n",
      "        font-family: -apple-system, system-ui, BlinkMacSystemFont, \"Segoe UI\", \"Open Sans\", \"Helvetica Neue\", Helvetica, Arial, sans-serif;\n",
      "        \n",
      "    }\n",
      "    div {\n",
      "        width: 600px;\n",
      "        margin: 5em auto;\n",
      "        padding: 2em;\n",
      "        background-color: #fdfdff;\n",
      "        border-radius: 0.5em;\n",
      "        box-shadow: 2px 3px 7px 2px rgba(0,0,0,0.02);\n",
      "    }\n",
      "    a:link, a:visited {\n",
      "        color: #38488f;\n",
      "        text-decoration: none;\n",
      "    }\n",
      "    @media (max-width: 700px) {\n",
      "        div {\n",
      "            margin: 0 auto;\n",
      "            width: auto;\n",
      "        }\n",
      "    }\n",
      "    </style>    \n",
      "</head>\n",
      "\n",
      "<body>\n",
      "<div>\n",
      "    <h1>Example Domain</h1>\n",
      "    <p>This domain is for use in illustrative examples in documents. You may use this\n",
      "    domain in literature without prior coordination or asking for permission.</p>\n",
      "    <p><a href=\"https://www.iana.org/domains/example\">More information...</a></p>\n",
      "</div>\n",
      "\n",
      "\n",
      "</body></html>\n"
     ]
    }
   ],
   "source": [
    "driver = webdriver.Chrome()\n",
    "driver.get('https://example.com/')\n",
    "print(driver.page_source)"
   ]
  },
  {
   "cell_type": "code",
   "execution_count": 4,
   "metadata": {},
   "outputs": [],
   "source": [
    "driver.quit()"
   ]
  },
  {
   "cell_type": "code",
   "execution_count": 5,
   "metadata": {},
   "outputs": [],
   "source": [
    "driver = webdriver.Chrome()\n",
    "driver.get('https://lms.codeacademyberlin.com/')\n",
    "# manually log in\n"
   ]
  },
  {
   "cell_type": "code",
   "execution_count": 6,
   "metadata": {},
   "outputs": [
    {
     "data": {
      "text/plain": [
       "[<selenium.webdriver.remote.webelement.WebElement (session=\"03dd890e8858e0ceb6406ad4d6fbf278\", element=\"f.FA65FFB0DCDC879E42DA3D8881A80D79.d.BF3CB2647B814F35FDBF2A31A151EDAC.e.78\")>,\n",
       " <selenium.webdriver.remote.webelement.WebElement (session=\"03dd890e8858e0ceb6406ad4d6fbf278\", element=\"f.FA65FFB0DCDC879E42DA3D8881A80D79.d.BF3CB2647B814F35FDBF2A31A151EDAC.e.92\")>,\n",
       " <selenium.webdriver.remote.webelement.WebElement (session=\"03dd890e8858e0ceb6406ad4d6fbf278\", element=\"f.FA65FFB0DCDC879E42DA3D8881A80D79.d.BF3CB2647B814F35FDBF2A31A151EDAC.e.100\")>,\n",
       " <selenium.webdriver.remote.webelement.WebElement (session=\"03dd890e8858e0ceb6406ad4d6fbf278\", element=\"f.FA65FFB0DCDC879E42DA3D8881A80D79.d.BF3CB2647B814F35FDBF2A31A151EDAC.e.101\")>,\n",
       " <selenium.webdriver.remote.webelement.WebElement (session=\"03dd890e8858e0ceb6406ad4d6fbf278\", element=\"f.FA65FFB0DCDC879E42DA3D8881A80D79.d.BF3CB2647B814F35FDBF2A31A151EDAC.e.102\")>,\n",
       " <selenium.webdriver.remote.webelement.WebElement (session=\"03dd890e8858e0ceb6406ad4d6fbf278\", element=\"f.FA65FFB0DCDC879E42DA3D8881A80D79.d.BF3CB2647B814F35FDBF2A31A151EDAC.e.103\")>,\n",
       " <selenium.webdriver.remote.webelement.WebElement (session=\"03dd890e8858e0ceb6406ad4d6fbf278\", element=\"f.FA65FFB0DCDC879E42DA3D8881A80D79.d.BF3CB2647B814F35FDBF2A31A151EDAC.e.104\")>,\n",
       " <selenium.webdriver.remote.webelement.WebElement (session=\"03dd890e8858e0ceb6406ad4d6fbf278\", element=\"f.FA65FFB0DCDC879E42DA3D8881A80D79.d.BF3CB2647B814F35FDBF2A31A151EDAC.e.105\")>]"
      ]
     },
     "execution_count": 6,
     "metadata": {},
     "output_type": "execute_result"
    }
   ],
   "source": [
    "from selenium.webdriver.common.by import By\n",
    "\n",
    "posts = driver.find_elements(By.CLASS_NAME, \"MuiPaper-root.MuiCard-root.sc-ikkxIA.iXIOzD.MuiPaper-elevation1.MuiPaper-rounded\")\n",
    "posts"
   ]
  },
  {
   "cell_type": "code",
   "execution_count": 7,
   "metadata": {},
   "outputs": [
    {
     "data": {
      "text/html": [
       "<div>\n",
       "<style scoped>\n",
       "    .dataframe tbody tr th:only-of-type {\n",
       "        vertical-align: middle;\n",
       "    }\n",
       "\n",
       "    .dataframe tbody tr th {\n",
       "        vertical-align: top;\n",
       "    }\n",
       "\n",
       "    .dataframe thead th {\n",
       "        text-align: right;\n",
       "    }\n",
       "</style>\n",
       "<table border=\"1\" class=\"dataframe\">\n",
       "  <thead>\n",
       "    <tr style=\"text-align: right;\">\n",
       "      <th></th>\n",
       "      <th>title</th>\n",
       "      <th>posted_by</th>\n",
       "      <th>content</th>\n",
       "    </tr>\n",
       "  </thead>\n",
       "  <tbody>\n",
       "    <tr>\n",
       "      <th>0</th>\n",
       "      <td>Black Owls Graduation!</td>\n",
       "      <td>Lucas</td>\n",
       "      <td>Tomorrow, we celebrate the graduation of the B...</td>\n",
       "    </tr>\n",
       "    <tr>\n",
       "      <th>1</th>\n",
       "      <td>Upcoming workshop \"Start your Career in Tech\" ...</td>\n",
       "      <td>Jost</td>\n",
       "      <td>Join us for an inspiring and relaxed evening w...</td>\n",
       "    </tr>\n",
       "    <tr>\n",
       "      <th>2</th>\n",
       "      <td>AI Meetup!</td>\n",
       "      <td>Emily</td>\n",
       "      <td>Code Academy will be hosting a meetup for AI e...</td>\n",
       "    </tr>\n",
       "    <tr>\n",
       "      <th>3</th>\n",
       "      <td>Don't miss tomorrow's Purple Cat graduation</td>\n",
       "      <td>Jost</td>\n",
       "      <td></td>\n",
       "    </tr>\n",
       "    <tr>\n",
       "      <th>4</th>\n",
       "      <td>CAB Pub Quizz - 20.11.2024</td>\n",
       "      <td>Lucas</td>\n",
       "      <td></td>\n",
       "    </tr>\n",
       "    <tr>\n",
       "      <th>5</th>\n",
       "      <td>Movie Night!</td>\n",
       "      <td>Emily</td>\n",
       "      <td>Join us for a Movie Night in the CAB Kino on O...</td>\n",
       "    </tr>\n",
       "    <tr>\n",
       "      <th>6</th>\n",
       "      <td>Give your review of CAB!</td>\n",
       "      <td>Lucas</td>\n",
       "      <td>Help us by sharing your experience at Code Aca...</td>\n",
       "    </tr>\n",
       "    <tr>\n",
       "      <th>7</th>\n",
       "      <td>The Academy loves you!</td>\n",
       "      <td>Lucas</td>\n",
       "      <td></td>\n",
       "    </tr>\n",
       "  </tbody>\n",
       "</table>\n",
       "</div>"
      ],
      "text/plain": [
       "                                               title posted_by  \\\n",
       "0                             Black Owls Graduation!     Lucas   \n",
       "1  Upcoming workshop \"Start your Career in Tech\" ...      Jost   \n",
       "2                                         AI Meetup!     Emily   \n",
       "3        Don't miss tomorrow's Purple Cat graduation      Jost   \n",
       "4                         CAB Pub Quizz - 20.11.2024     Lucas   \n",
       "5                                       Movie Night!     Emily   \n",
       "6                           Give your review of CAB!     Lucas   \n",
       "7                             The Academy loves you!     Lucas   \n",
       "\n",
       "                                             content  \n",
       "0  Tomorrow, we celebrate the graduation of the B...  \n",
       "1  Join us for an inspiring and relaxed evening w...  \n",
       "2  Code Academy will be hosting a meetup for AI e...  \n",
       "3                                                     \n",
       "4                                                     \n",
       "5  Join us for a Movie Night in the CAB Kino on O...  \n",
       "6  Help us by sharing your experience at Code Aca...  \n",
       "7                                                     "
      ]
     },
     "execution_count": 7,
     "metadata": {},
     "output_type": "execute_result"
    }
   ],
   "source": [
    "poster = []\n",
    "titles = []\n",
    "content = []\n",
    "\n",
    "for post in posts:\n",
    "  # print(\"running\")\n",
    "  poster.append(post.find_element(By.CSS_SELECTOR, \"span.MuiTypography-displayBlock\").text)\n",
    "  titles.append(post.find_element(By.CSS_SELECTOR, \"h2.MuiTypography-root.sc-kpDqfm.jflsKu.MuiTypography-h2\").text)\n",
    "  try:\n",
    "    content.append(post.find_element(By.CSS_SELECTOR, \"div.wmde-markdown.wmde-markdown-color \").text)\n",
    "  except:\n",
    "    content.append(\"no content\")\n",
    "\n",
    "posts_df = pd.DataFrame({\n",
    "  'title': titles,\n",
    "  'posted_by': poster,\n",
    "  'content': content\n",
    "})\n",
    "\n",
    "posts_df"
   ]
  },
  {
   "cell_type": "code",
   "execution_count": 8,
   "metadata": {},
   "outputs": [],
   "source": [
    "# make a new comment then delete it\n",
    "inputs = posts[0].find_elements(By.TAG_NAME, \"input\")\n",
    "# input.send_keys('testing')\n",
    "inputs[1].send_keys(\"testing\")"
   ]
  },
  {
   "cell_type": "code",
   "execution_count": 9,
   "metadata": {},
   "outputs": [],
   "source": [
    "submit_button = posts[0].find_element(By.CSS_SELECTOR, 'button[type=\"submit\"]')\n",
    "submit_button.click()"
   ]
  },
  {
   "cell_type": "code",
   "execution_count": 10,
   "metadata": {},
   "outputs": [],
   "source": [
    "comments_list = posts[0].find_elements(By.CLASS_NAME, \"MuiListItem-container\")\n",
    "delete_button = comments_list[-1].find_element(By.CSS_SELECTOR, 'button[aria-label=\"delete\"]')\n",
    "delete_button.click()\n"
   ]
  },
  {
   "cell_type": "code",
   "execution_count": 11,
   "metadata": {},
   "outputs": [],
   "source": [
    "driver.quit()"
   ]
  }
 ],
 "metadata": {
  "kernelspec": {
   "display_name": "CAB_Module3",
   "language": "python",
   "name": "python3"
  },
  "language_info": {
   "codemirror_mode": {
    "name": "ipython",
    "version": 3
   },
   "file_extension": ".py",
   "mimetype": "text/x-python",
   "name": "python",
   "nbconvert_exporter": "python",
   "pygments_lexer": "ipython3",
   "version": "3.12.8"
  }
 },
 "nbformat": 4,
 "nbformat_minor": 2
}
