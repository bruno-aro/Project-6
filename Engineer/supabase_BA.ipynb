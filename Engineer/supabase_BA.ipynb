{
 "cells": [
  {
   "cell_type": "code",
   "execution_count": 3,
   "id": "4fb7a34e",
   "metadata": {},
   "outputs": [],
   "source": [
    "from dotenv import load_dotenv\n",
    "import os\n",
    "load_dotenv()\n",
    "\n",
    "dbconn = os.getenv(\"DBCONN\")"
   ]
  },
  {
   "cell_type": "code",
   "execution_count": 4,
   "id": "c9dfe14c",
   "metadata": {},
   "outputs": [],
   "source": [
    "import psycopg\n",
    "\n",
    "load_dotenv()\n",
    "dbconn = os.getenv(\"DBCONN\")\n",
    "\n",
    "# establish database connection using connection string from .env\n",
    "conn = psycopg.connect(dbconn)\n",
    "\n",
    "# create a cursor\n",
    "cur = conn.cursor()\n",
    "\n"
   ]
  },
  {
   "cell_type": "code",
   "execution_count": 5,
   "id": "7f729db8",
   "metadata": {},
   "outputs": [
    {
     "data": {
      "text/plain": [
       "<psycopg.Cursor [COMMAND_OK] [INTRANS] (host=db.rmhwmflqmrpurnexvvgh.supabase.co database=postgres) at 0x112b61790>"
      ]
     },
     "execution_count": 5,
     "metadata": {},
     "output_type": "execute_result"
    }
   ],
   "source": [
    "cur.execute('''\n",
    "    CREATE TABLE IF NOT EXISTS btc_data(\n",
    "        id INTEGER PRIMARY KEY,\n",
    "        title TEXT,\n",
    "        author TEXT,\n",
    "        published_at TIMESTAMP\n",
    "    );\n",
    "''')"
   ]
  },
  {
   "cell_type": "code",
   "execution_count": 6,
   "id": "cb2f62d5",
   "metadata": {},
   "outputs": [],
   "source": [
    "conn.commit()"
   ]
  },
  {
   "cell_type": "code",
   "execution_count": 7,
   "id": "8875943d",
   "metadata": {},
   "outputs": [
    {
     "ename": "NameError",
     "evalue": "name 'df' is not defined",
     "output_type": "error",
     "traceback": [
      "\u001b[31m---------------------------------------------------------------------------\u001b[39m",
      "\u001b[31mNameError\u001b[39m                                 Traceback (most recent call last)",
      "\u001b[36mCell\u001b[39m\u001b[36m \u001b[39m\u001b[32mIn[7]\u001b[39m\u001b[32m, line 7\u001b[39m\n\u001b[32m      4\u001b[39m conn = psycopg2.connect(dsn=dbconn)\n\u001b[32m      5\u001b[39m cur = conn.cursor()\n\u001b[32m----> \u001b[39m\u001b[32m7\u001b[39m \u001b[38;5;28;01mfor\u001b[39;00m _, row \u001b[38;5;129;01min\u001b[39;00m \u001b[43mdf\u001b[49m.iterrows():\n\u001b[32m      8\u001b[39m     \u001b[38;5;66;03m# Skip rows with missing data\u001b[39;00m\n\u001b[32m      9\u001b[39m     \u001b[38;5;28;01mif\u001b[39;00m pd.isna(row[\u001b[33m\"\u001b[39m\u001b[33mDates.N\u001b[39m\u001b[33m\"\u001b[39m]):\n\u001b[32m     10\u001b[39m         \u001b[38;5;28;01mcontinue\u001b[39;00m\n",
      "\u001b[31mNameError\u001b[39m: name 'df' is not defined"
     ]
    }
   ],
   "source": [
    "import psycopg2\n",
    "import datetime as dt\n",
    "\n",
    "conn = psycopg2.connect(dsn=dbconn)\n",
    "cur = conn.cursor()\n",
    "\n",
    "for _, row in df.iterrows():\n",
    "    # Skip rows with missing data\n",
    "    if pd.isna(row[\"Dates.N\"]):\n",
    "        continue\n",
    "\n",
    "    # Convert to Python datetime (if not already)\n",
    "    published_at = pd.to_datetime(row[\"Dates.N\"]).to_pydatetime()\n",
    "    title = row[\"Title\"]\n",
    "    author = row[\"Author\"]\n",
    "    id_ = int(row[\"ID\"])\n",
    "\n",
    "    cur.execute(\n",
    "        '''\n",
    "        INSERT INTO btc_data (id, title, author, published_at)\n",
    "        VALUES (%s, %s, %s, %s)\n",
    "        ON CONFLICT (id) DO UPDATE SET\n",
    "            title = EXCLUDED.title,\n",
    "            author = EXCLUDED.author,\n",
    "            published_at = EXCLUDED.published_at;\n",
    "        ''',\n",
    "        [id_, title, author, published_at]\n",
    "    )\n",
    "\n",
    "conn.commit()\n",
    "cur.close()\n",
    "conn.close()"
   ]
  }
 ],
 "metadata": {
  "kernelspec": {
   "display_name": "CodeAcademy",
   "language": "python",
   "name": "python3"
  },
  "language_info": {
   "codemirror_mode": {
    "name": "ipython",
    "version": 3
   },
   "file_extension": ".py",
   "mimetype": "text/x-python",
   "name": "python",
   "nbconvert_exporter": "python",
   "pygments_lexer": "ipython3",
   "version": "3.12.11"
  }
 },
 "nbformat": 4,
 "nbformat_minor": 5
}
