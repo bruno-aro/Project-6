{
 "cells": [
  {
   "cell_type": "code",
   "execution_count": 1,
   "id": "4fb7a34e",
   "metadata": {},
   "outputs": [],
   "source": [
    "from dotenv import load_dotenv\n",
    "import os\n",
    "load_dotenv()\n",
    "\n",
    "dbconn = os.getenv(\"DBCONN\")"
   ]
  },
  {
   "cell_type": "code",
   "execution_count": 6,
   "id": "c9dfe14c",
   "metadata": {},
   "outputs": [],
   "source": [
    "import psycopg2\n",
    "\n",
    "load_dotenv()\n",
    "dbconn = os.getenv(\"DBCONN\")\n",
    "\n",
    "# establish database connection using connection string from .env\n",
    "conn = psycopg2.connect(dbconn)\n",
    "\n",
    "# create a cursor\n",
    "cur = conn.cursor()\n",
    "\n"
   ]
  },
  {
   "cell_type": "code",
   "execution_count": 3,
   "id": "7f729db8",
   "metadata": {},
   "outputs": [],
   "source": [
    "cur.execute('''\n",
    "    CREATE TABLE IF NOT EXISTS btc_data(\n",
    "        id INTEGER PRIMARY KEY,\n",
    "        title TEXT,\n",
    "        author TEXT,\n",
    "        published_at TIMESTAMP\n",
    "    );\n",
    "''')"
   ]
  },
  {
   "cell_type": "code",
   "execution_count": 4,
   "id": "cb2f62d5",
   "metadata": {},
   "outputs": [],
   "source": [
    "conn.commit()"
   ]
  },
  {
   "cell_type": "code",
   "execution_count": null,
   "id": "130a26ca",
   "metadata": {},
   "outputs": [
    {
     "name": "stdout",
     "output_type": "stream",
     "text": [
      "✅ Inserted 58 rows.\n"
     ]
    }
   ],
   "source": [
    "import psycopg2\n",
    "import pandas as pd\n",
    "from psycopg2.extras import execute_values\n",
    "\n",
    "# Load (or reuse your existing df)\n",
    "df = pd.read_csv(\"btc_data.csv\", parse_dates=[\"Dates.N\"])\n",
    "\n",
    "# --- keep ONLY the columns you insert ---\n",
    "df_ins = df[[\"ID\", \"Title\", \"Author\", \"Dates.N\"]].copy()\n",
    "\n",
    "# --- clean types ---\n",
    "df_ins[\"ID\"] = pd.to_numeric(df_ins[\"ID\"], errors=\"coerce\")               # -> float/int or NaN\n",
    "df_ins[\"Title\"] = df_ins[\"Title\"].astype(str)\n",
    "df_ins[\"Author\"] = df_ins[\"Author\"].astype(str)\n",
    "df_ins[\"Dates.N\"] = pd.to_datetime(df_ins[\"Dates.N\"], errors=\"coerce\")    # invalid -> NaT\n",
    "\n",
    "# --- drop rows that can't be inserted (NULL id or timestamp) ---\n",
    "df_ins = df_ins.dropna(subset=[\"ID\", \"Dates.N\"])\n",
    "\n",
    "# --- build rows in the correct order & python types ---\n",
    "rows = [\n",
    "    (int(r.ID), r.Title, r.Author, pd.Timestamp(r[\"Dates.N\"]).to_pydatetime())\n",
    "    for _, r in df_ins.iterrows()\n",
    "]\n",
    "\n",
    "conn = psycopg2.connect(dsn=dbconn)\n",
    "cur = conn.cursor()\n",
    "\n",
    "execute_values(\n",
    "    cur,\n",
    "    \"\"\"\n",
    "    INSERT INTO btc_data (id, title, author, published_at)\n",
    "    VALUES %s\n",
    "    ON CONFLICT (id) DO UPDATE SET\n",
    "        title = EXCLUDED.title,\n",
    "        author = EXCLUDED.author,\n",
    "        published_at = EXCLUDED.published_at;\n",
    "    \"\"\",\n",
    "    rows\n",
    ")\n",
    "\n",
    "conn.commit()\n",
    "cur.close()\n",
    "conn.close()"
   ]
  }
 ],
 "metadata": {
  "kernelspec": {
   "display_name": "CodeAcademy",
   "language": "python",
   "name": "python3"
  },
  "language_info": {
   "codemirror_mode": {
    "name": "ipython",
    "version": 3
   },
   "file_extension": ".py",
   "mimetype": "text/x-python",
   "name": "python",
   "nbconvert_exporter": "python",
   "pygments_lexer": "ipython3",
   "version": "3.12.11"
  }
 },
 "nbformat": 4,
 "nbformat_minor": 5
}
