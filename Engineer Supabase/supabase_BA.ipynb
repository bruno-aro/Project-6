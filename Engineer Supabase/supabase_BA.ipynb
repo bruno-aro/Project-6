{
 "cells": [
  {
   "cell_type": "code",
   "execution_count": 10,
   "id": "4fb7a34e",
   "metadata": {},
   "outputs": [],
   "source": [
    "from dotenv import load_dotenv\n",
    "import os\n",
    "load_dotenv()\n",
    "\n",
    "dbconn = os.getenv(\"DBCONN\")"
   ]
  },
  {
   "cell_type": "code",
   "execution_count": 11,
   "id": "c9dfe14c",
   "metadata": {},
   "outputs": [],
   "source": [
    "import psycopg\n",
    "\n",
    "load_dotenv()\n",
    "dbconn = os.getenv(\"DBCONN\")\n",
    "\n",
    "# establish database connection using connection string from .env\n",
    "conn = psycopg.connect(dbconn)\n",
    "\n",
    "# create a cursor\n",
    "cur = conn.cursor()\n",
    "\n"
   ]
  },
  {
   "cell_type": "code",
   "execution_count": 12,
   "id": "7f729db8",
   "metadata": {},
   "outputs": [
    {
     "data": {
      "text/plain": [
       "<psycopg.Cursor [COMMAND_OK] [INTRANS] (host=db.rmhwmflqmrpurnexvvgh.supabase.co database=postgres) at 0x119a6b650>"
      ]
     },
     "execution_count": 12,
     "metadata": {},
     "output_type": "execute_result"
    }
   ],
   "source": [
    "cur.execute('''\n",
    "    CREATE TABLE IF NOT EXISTS btc_data_news(\n",
    "        id INTEGER PRIMARY KEY,\n",
    "        title TEXT,\n",
    "        author TEXT,\n",
    "        link TEXT,\n",
    "        published_date DATE\n",
    "    );\n",
    "''')"
   ]
  },
  {
   "cell_type": "code",
   "execution_count": 13,
   "id": "4c00885f",
   "metadata": {},
   "outputs": [
    {
     "data": {
      "text/plain": [
       "<psycopg.Cursor [COMMAND_OK] [INTRANS] (host=db.rmhwmflqmrpurnexvvgh.supabase.co database=postgres) at 0x119a6b650>"
      ]
     },
     "execution_count": 13,
     "metadata": {},
     "output_type": "execute_result"
    }
   ],
   "source": [
    "cur.execute(\"\"\"\n",
    "        create table if not exists alpha_vantage_daily(\n",
    "          trade_date date primary key,\n",
    "          open  numeric(12,6),\n",
    "          high  numeric(12,6),\n",
    "          low   numeric(12,6),\n",
    "          close numeric(12,6),\n",
    "          volume bigint\n",
    "        );\n",
    "        \"\"\")"
   ]
  },
  {
   "cell_type": "code",
   "execution_count": 14,
   "id": "cb2f62d5",
   "metadata": {},
   "outputs": [],
   "source": [
    "conn.commit()"
   ]
  },
  {
   "cell_type": "code",
   "execution_count": null,
   "id": "8875943d",
   "metadata": {},
   "outputs": [],
   "source": [
    "import pandas as pd\n",
    "import datetime as dt\n",
    "\n",
    "df = pd.read_csv(\"btc_data_news.csv\", parse_dates=[\"Dates.N\"])\n",
    "\n",
    "conn = psycopg.connect(dbconn)\n",
    "cur = conn.cursor()\n",
    "\n",
    "for _, row in df.iterrows():\n",
    "    # Skip rows with missing data\n",
    "    if pd.isna(row[\"Dates.N\"]):\n",
    "        continue\n",
    "\n",
    "    # Convert to Python datetime (if not already)\n",
    "    published_date = pd.to_datetime(row[\"Dates.N\"]).to_pydatetime()\n",
    "    title = row[\"Title\"]\n",
    "    author = row[\"Author\"]\n",
    "    id_ = int(row[\"ID\"])\n",
    "\n",
    "    cur.execute(\n",
    "        '''\n",
    "        INSERT INTO btc_data_news (id, title, author, published_date)\n",
    "        VALUES (%s, %s, %s, %s)\n",
    "        ON CONFLICT (id) DO UPDATE SET\n",
    "            title = EXCLUDED.title,\n",
    "            author = EXCLUDED.author,\n",
    "            published_date = EXCLUDED.published_date;\n",
    "        ''',\n",
    "        [id_, title, author, published_date]\n",
    "    )\n",
    "\n",
    "conn.commit()\n",
    "cur.close()\n",
    "conn.close()"
   ]
  },
  {
   "cell_type": "code",
   "execution_count": 18,
   "id": "f91469b3",
   "metadata": {},
   "outputs": [],
   "source": [
    "df = pd.read_csv(\"alpha_vantage.csv\", parse_dates=[\"date\"])\n",
    "\n",
    "conn = psycopg.connect(dbconn)\n",
    "cur = conn.cursor()\n",
    "\n",
    "for _, row in df.iterrows():\n",
    "    if pd.isna(row[\"date\"]):\n",
    "        continue\n",
    "\n",
    "    cur.execute(\n",
    "        '''\n",
    "        INSERT INTO alpha_vantage_daily (trade_date, open, high, low, close, volume)\n",
    "        VALUES (%s, %s, %s, %s, %s, %s)\n",
    "        ON CONFLICT (trade_date) DO UPDATE SET\n",
    "            open = EXCLUDED.open,\n",
    "            high = EXCLUDED.high,\n",
    "            low = EXCLUDED.low,\n",
    "            close = EXCLUDED.close,\n",
    "            volume = EXCLUDED.volume;\n",
    "        ''',\n",
    "        [\n",
    "            row[\"date\"].date(),\n",
    "            row[\"open\"],\n",
    "            row[\"high\"],\n",
    "            row[\"low\"],\n",
    "            row[\"close\"],\n",
    "            int(row[\"volume\"])\n",
    "        ]\n",
    "    )\n",
    "\n",
    "conn.commit()\n",
    "cur.close()\n",
    "conn.close()"
   ]
  }
 ],
 "metadata": {
  "kernelspec": {
   "display_name": "CodeAcademy",
   "language": "python",
   "name": "python3"
  },
  "language_info": {
   "codemirror_mode": {
    "name": "ipython",
    "version": 3
   },
   "file_extension": ".py",
   "mimetype": "text/x-python",
   "name": "python",
   "nbconvert_exporter": "python",
   "pygments_lexer": "ipython3",
   "version": "3.12.11"
  }
 },
 "nbformat": 4,
 "nbformat_minor": 5
}
